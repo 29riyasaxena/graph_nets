{
 "cells": [
  {
   "cell_type": "markdown",
   "metadata": {},
   "source": [
    "# Inductive capability\n",
    "One of the interesting propertery of GraphSAGE is that we can train our model on one subset of graph and apply this model  on other subset of the this graph. The reason we can do this is that we can do parameter sharing i.e. those processing boxes are the same everywhere (W and B are shared across all the computational graphs or architectures). So when a new architecture comes into play we can borrow the parameters (W and B), do a forward pass and we get our prediction. \n",
    "![sharing parameters](img/sharing_param.png)"
   ]
  },
  {
   "cell_type": "markdown",
   "metadata": {},
   "source": [
    "This property of GraphSAGE is very useful in the prediction of protein interaction. For example we can train our model on protein interaction graph from model organism A (left hand side in the figure below) and generate embedding on newly collected data from other model organism say B (right hand side in the figure).\n",
    "\n",
    "![protein_interaction](img/protein.png)"
   ]
  },
  {
   "cell_type": "markdown",
   "metadata": {},
   "source": [
    "We know that our old methods like deepwalk were not able to generalise to a new unseen graph. So if any new node gets added to the graph we had to train our model from scratch but since our new method is generalised to the unseen graphs, so in order to predict the embeddings of the new node we just have to make the computational graph of the new node, transfer the parameters to the unseen part of the graph and we can make predictions.\n",
    "\n",
    "![new node](img/new_node.png)"
   ]
  },
  {
   "cell_type": "markdown",
   "metadata": {},
   "source": [
    "We can use this property in social-network (like facebook). Consider the first graph in the above figure, users in a social-network are represented by the nodes of the graph. Initially we have users represented by first graph, so we will train our model on this graph. After some time suppose another user is added in the network, now we don't have to train our model from scratch on the second graph. We will just create the computational graph of the new node, borrow the parameters from the already trained model and then we can find the embeddings of the newly added user."
   ]
  }
 ],
 "metadata": {
  "kernelspec": {
   "display_name": "Python 3",
   "language": "python",
   "name": "python3"
  },
  "language_info": {
   "codemirror_mode": {
    "name": "ipython",
    "version": 3
   },
   "file_extension": ".py",
   "mimetype": "text/x-python",
   "name": "python",
   "nbconvert_exporter": "python",
   "pygments_lexer": "ipython3",
   "version": "3.7.3"
  }
 },
 "nbformat": 4,
 "nbformat_minor": 2
}

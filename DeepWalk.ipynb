{
 "cells": [
  {
   "cell_type": "code",
   "execution_count": 1,
   "metadata": {},
   "outputs": [],
   "source": [
    "adj_list=[[1,2,3], [0,2,3], [0, 1, 3], [0, 1, 2], [5, 6], [4,6], [4, 5]]"
   ]
  },
  {
   "cell_type": "code",
   "execution_count": 2,
   "metadata": {},
   "outputs": [],
   "source": [
    "import torch\n",
    "import random"
   ]
  },
  {
   "cell_type": "code",
   "execution_count": 3,
   "metadata": {},
   "outputs": [],
   "source": [
    "w=3\n",
    "d=2\n",
    "y=2000\n",
    "t=6\n",
    "size_vertex=7\n",
    "lr=0.025"
   ]
  },
  {
   "cell_type": "code",
   "execution_count": 4,
   "metadata": {},
   "outputs": [],
   "source": [
    "v=[0,1,2,3,4,5,6]\n"
   ]
  },
  {
   "cell_type": "code",
   "execution_count": null,
   "metadata": {},
   "outputs": [],
   "source": []
  },
  {
   "cell_type": "code",
   "execution_count": null,
   "metadata": {},
   "outputs": [],
   "source": []
  },
  {
   "cell_type": "code",
   "execution_count": 5,
   "metadata": {},
   "outputs": [],
   "source": [
    "import torch\n",
    "import torch.nn as nn\n",
    "\n",
    "class Model(torch.nn.Module):\n",
    "    def __init__(self):\n",
    "  \n",
    "        super(Model, self).__init__()\n",
    "        self.phi=nn.Parameter(torch.rand((size_vertex, d), requires_grad=True))    \n",
    "        self.phi2=nn.Parameter(torch.rand((d, size_vertex), requires_grad=True))\n",
    "    def forward(self, one_hot):\n",
    "    \n",
    "        out=torch.matmul(torch.matmul(one_hot,self.phi),self.phi2)\n",
    "            \n",
    "        return out"
   ]
  },
  {
   "cell_type": "code",
   "execution_count": 6,
   "metadata": {},
   "outputs": [],
   "source": [
    "model=Model()"
   ]
  },
  {
   "cell_type": "code",
   "execution_count": 7,
   "metadata": {},
   "outputs": [],
   "source": [
    "def RandomWalk(v,t):\n",
    "    walk=[v]\n",
    "    for i in range(t-1):\n",
    "        v=adj_list[v][random.randint(0,1)]\n",
    "        walk.append(v)\n",
    "    return walk"
   ]
  },
  {
   "cell_type": "code",
   "execution_count": 8,
   "metadata": {},
   "outputs": [],
   "source": [
    "def SkipGram(wvi,  w):\n",
    "   \n",
    "    for j in range(len(wvi)):\n",
    "        for k in range(max(0,j-w) , min(j+w, len(wvi))):\n",
    "            #generate one hot vector\n",
    "            one_hot=torch.zeros( size_vertex)\n",
    "            one_hot[wvi[j]]=1\n",
    "            out=model(one_hot)\n",
    "            \n",
    "            loss=  - out[wvi[k]] + torch.log(torch.sum(torch.exp(out)))\n",
    "            loss.backward()\n",
    "            for param in model.parameters():\n",
    "                param.data.sub_(lr*param.grad)\n",
    "                param.grad.data.zero_()\n"
   ]
  },
  {
   "cell_type": "code",
   "execution_count": 9,
   "metadata": {},
   "outputs": [],
   "source": [
    "for i in range(y):\n",
    "    random.shuffle(v)\n",
    "    for vi in v:\n",
    "        wvi=RandomWalk(vi,t)\n",
    "        SkipGram(wvi, w)"
   ]
  },
  {
   "cell_type": "code",
   "execution_count": null,
   "metadata": {},
   "outputs": [],
   "source": []
  },
  {
   "cell_type": "code",
   "execution_count": 10,
   "metadata": {},
   "outputs": [
    {
     "name": "stdout",
     "output_type": "stream",
     "text": [
      "Parameter containing:\n",
      "tensor([[ 0.9143,  0.0878],\n",
      "        [ 0.9173,  0.0396],\n",
      "        [ 0.7250,  0.5899],\n",
      "        [ 0.5285, -1.0867],\n",
      "        [-0.8290, -0.3031],\n",
      "        [-0.8772,  0.0601],\n",
      "        [-0.8070,  0.4659]], requires_grad=True)\n"
     ]
    }
   ],
   "source": [
    "print(model.phi)"
   ]
  },
  {
   "cell_type": "code",
   "execution_count": null,
   "metadata": {},
   "outputs": [],
   "source": []
  },
  {
   "cell_type": "code",
   "execution_count": null,
   "metadata": {},
   "outputs": [],
   "source": []
  }
 ],
 "metadata": {
  "kernelspec": {
   "display_name": "Python 3",
   "language": "python",
   "name": "python3"
  },
  "language_info": {
   "codemirror_mode": {
    "name": "ipython",
    "version": 3
   },
   "file_extension": ".py",
   "mimetype": "text/x-python",
   "name": "python",
   "nbconvert_exporter": "python",
   "pygments_lexer": "ipython3",
   "version": "3.7.1"
  }
 },
 "nbformat": 4,
 "nbformat_minor": 2
}
